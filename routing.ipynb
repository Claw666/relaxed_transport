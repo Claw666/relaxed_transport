{
 "cells": [
  {
   "cell_type": "code",
   "execution_count": 1,
   "metadata": {},
   "outputs": [],
   "source": [
    "import requests, json, time\n",
    "import polyline, folium\n",
    "import datetime\n",
    "import re"
   ]
  },
  {
   "cell_type": "code",
   "execution_count": 7,
   "metadata": {
    "scrolled": false
   },
   "outputs": [
    {
     "data": {
      "text/html": [
       "<div style=\"width:100%;\"><div style=\"position:relative;width:100%;height:0;padding-bottom:60%;\"><span style=\"color:#565656\">Make this Notebook Trusted to load map: File -> Trust Notebook</span><iframe src=\"about:blank\" style=\"position:absolute;width:100%;height:100%;left:0;top:0;border:none !important;\" data-html=%3C%21DOCTYPE%20html%3E%0A%3Chead%3E%20%20%20%20%0A%20%20%20%20%3Cmeta%20http-equiv%3D%22content-type%22%20content%3D%22text/html%3B%20charset%3DUTF-8%22%20/%3E%0A%20%20%20%20%0A%20%20%20%20%20%20%20%20%3Cscript%3E%0A%20%20%20%20%20%20%20%20%20%20%20%20L_NO_TOUCH%20%3D%20false%3B%0A%20%20%20%20%20%20%20%20%20%20%20%20L_DISABLE_3D%20%3D%20false%3B%0A%20%20%20%20%20%20%20%20%3C/script%3E%0A%20%20%20%20%0A%20%20%20%20%3Cstyle%3Ehtml%2C%20body%20%7Bwidth%3A%20100%25%3Bheight%3A%20100%25%3Bmargin%3A%200%3Bpadding%3A%200%3B%7D%3C/style%3E%0A%20%20%20%20%3Cstyle%3E%23map%20%7Bposition%3Aabsolute%3Btop%3A0%3Bbottom%3A0%3Bright%3A0%3Bleft%3A0%3B%7D%3C/style%3E%0A%20%20%20%20%3Cscript%20src%3D%22https%3A//cdn.jsdelivr.net/npm/leaflet%401.6.0/dist/leaflet.js%22%3E%3C/script%3E%0A%20%20%20%20%3Cscript%20src%3D%22https%3A//code.jquery.com/jquery-1.12.4.min.js%22%3E%3C/script%3E%0A%20%20%20%20%3Cscript%20src%3D%22https%3A//maxcdn.bootstrapcdn.com/bootstrap/3.2.0/js/bootstrap.min.js%22%3E%3C/script%3E%0A%20%20%20%20%3Cscript%20src%3D%22https%3A//cdnjs.cloudflare.com/ajax/libs/Leaflet.awesome-markers/2.0.2/leaflet.awesome-markers.js%22%3E%3C/script%3E%0A%20%20%20%20%3Clink%20rel%3D%22stylesheet%22%20href%3D%22https%3A//cdn.jsdelivr.net/npm/leaflet%401.6.0/dist/leaflet.css%22/%3E%0A%20%20%20%20%3Clink%20rel%3D%22stylesheet%22%20href%3D%22https%3A//maxcdn.bootstrapcdn.com/bootstrap/3.2.0/css/bootstrap.min.css%22/%3E%0A%20%20%20%20%3Clink%20rel%3D%22stylesheet%22%20href%3D%22https%3A//maxcdn.bootstrapcdn.com/bootstrap/3.2.0/css/bootstrap-theme.min.css%22/%3E%0A%20%20%20%20%3Clink%20rel%3D%22stylesheet%22%20href%3D%22https%3A//maxcdn.bootstrapcdn.com/font-awesome/4.6.3/css/font-awesome.min.css%22/%3E%0A%20%20%20%20%3Clink%20rel%3D%22stylesheet%22%20href%3D%22https%3A//cdnjs.cloudflare.com/ajax/libs/Leaflet.awesome-markers/2.0.2/leaflet.awesome-markers.css%22/%3E%0A%20%20%20%20%3Clink%20rel%3D%22stylesheet%22%20href%3D%22https%3A//cdn.jsdelivr.net/gh/python-visualization/folium/folium/templates/leaflet.awesome.rotate.min.css%22/%3E%0A%20%20%20%20%0A%20%20%20%20%20%20%20%20%20%20%20%20%3Cmeta%20name%3D%22viewport%22%20content%3D%22width%3Ddevice-width%2C%0A%20%20%20%20%20%20%20%20%20%20%20%20%20%20%20%20initial-scale%3D1.0%2C%20maximum-scale%3D1.0%2C%20user-scalable%3Dno%22%20/%3E%0A%20%20%20%20%20%20%20%20%20%20%20%20%3Cstyle%3E%0A%20%20%20%20%20%20%20%20%20%20%20%20%20%20%20%20%23map_63f5f85d58b64f53a4bbc3a9b52620de%20%7B%0A%20%20%20%20%20%20%20%20%20%20%20%20%20%20%20%20%20%20%20%20position%3A%20relative%3B%0A%20%20%20%20%20%20%20%20%20%20%20%20%20%20%20%20%20%20%20%20width%3A%20100.0%25%3B%0A%20%20%20%20%20%20%20%20%20%20%20%20%20%20%20%20%20%20%20%20height%3A%20100.0%25%3B%0A%20%20%20%20%20%20%20%20%20%20%20%20%20%20%20%20%20%20%20%20left%3A%200.0%25%3B%0A%20%20%20%20%20%20%20%20%20%20%20%20%20%20%20%20%20%20%20%20top%3A%200.0%25%3B%0A%20%20%20%20%20%20%20%20%20%20%20%20%20%20%20%20%7D%0A%20%20%20%20%20%20%20%20%20%20%20%20%3C/style%3E%0A%20%20%20%20%20%20%20%20%0A%3C/head%3E%0A%3Cbody%3E%20%20%20%20%0A%20%20%20%20%0A%20%20%20%20%20%20%20%20%20%20%20%20%3Cdiv%20class%3D%22folium-map%22%20id%3D%22map_63f5f85d58b64f53a4bbc3a9b52620de%22%20%3E%3C/div%3E%0A%20%20%20%20%20%20%20%20%0A%3C/body%3E%0A%3Cscript%3E%20%20%20%20%0A%20%20%20%20%0A%20%20%20%20%20%20%20%20%20%20%20%20var%20map_63f5f85d58b64f53a4bbc3a9b52620de%20%3D%20L.map%28%0A%20%20%20%20%20%20%20%20%20%20%20%20%20%20%20%20%22map_63f5f85d58b64f53a4bbc3a9b52620de%22%2C%0A%20%20%20%20%20%20%20%20%20%20%20%20%20%20%20%20%7B%0A%20%20%20%20%20%20%20%20%20%20%20%20%20%20%20%20%20%20%20%20center%3A%20%5B52.408924999999996%2C%205.30112%5D%2C%0A%20%20%20%20%20%20%20%20%20%20%20%20%20%20%20%20%20%20%20%20crs%3A%20L.CRS.EPSG3857%2C%0A%20%20%20%20%20%20%20%20%20%20%20%20%20%20%20%20%20%20%20%20zoom%3A%2015%2C%0A%20%20%20%20%20%20%20%20%20%20%20%20%20%20%20%20%20%20%20%20zoomControl%3A%20true%2C%0A%20%20%20%20%20%20%20%20%20%20%20%20%20%20%20%20%20%20%20%20preferCanvas%3A%20false%2C%0A%20%20%20%20%20%20%20%20%20%20%20%20%20%20%20%20%7D%0A%20%20%20%20%20%20%20%20%20%20%20%20%29%3B%0A%0A%20%20%20%20%20%20%20%20%20%20%20%20%0A%0A%20%20%20%20%20%20%20%20%0A%20%20%20%20%0A%20%20%20%20%20%20%20%20%20%20%20%20var%20tile_layer_1d81fc35fbdc47dd926c66cc7284f9a2%20%3D%20L.tileLayer%28%0A%20%20%20%20%20%20%20%20%20%20%20%20%20%20%20%20%22https%3A//%7Bs%7D.tile.openstreetmap.org/%7Bz%7D/%7Bx%7D/%7By%7D.png%22%2C%0A%20%20%20%20%20%20%20%20%20%20%20%20%20%20%20%20%7B%22attribution%22%3A%20%22Data%20by%20%5Cu0026copy%3B%20%5Cu003ca%20href%3D%5C%22http%3A//openstreetmap.org%5C%22%5Cu003eOpenStreetMap%5Cu003c/a%5Cu003e%2C%20under%20%5Cu003ca%20href%3D%5C%22http%3A//www.openstreetmap.org/copyright%5C%22%5Cu003eODbL%5Cu003c/a%5Cu003e.%22%2C%20%22detectRetina%22%3A%20false%2C%20%22maxNativeZoom%22%3A%2018%2C%20%22maxZoom%22%3A%2018%2C%20%22minZoom%22%3A%200%2C%20%22noWrap%22%3A%20false%2C%20%22opacity%22%3A%201%2C%20%22subdomains%22%3A%20%22abc%22%2C%20%22tms%22%3A%20false%7D%0A%20%20%20%20%20%20%20%20%20%20%20%20%29.addTo%28map_63f5f85d58b64f53a4bbc3a9b52620de%29%3B%0A%20%20%20%20%20%20%20%20%0A%20%20%20%20%0A%20%20%20%20%20%20%20%20%20%20%20%20var%20poly_line_c131e851e0884266857f0f2d5682d370%20%3D%20L.polyline%28%0A%20%20%20%20%20%20%20%20%20%20%20%20%20%20%20%20%5B%5B52.41183%2C%205.3047%5D%2C%20%5B52.41191%2C%205.30499%5D%2C%20%5B52.41162%2C%205.30625%5D%2C%20%5B52.41145%2C%205.30682%5D%2C%20%5B52.41109%2C%205.3078%5D%2C%20%5B52.41075%2C%205.30856%5D%2C%20%5B52.41025%2C%205.30948%5D%2C%20%5B52.40994%2C%205.30997%5D%2C%20%5B52.40962%2C%205.31042%5D%2C%20%5B52.40932%2C%205.31078%5D%2C%20%5B52.40887%2C%205.31126%5D%2C%20%5B52.40835%2C%205.31164%5D%2C%20%5B52.40831%2C%205.31159%5D%2C%20%5B52.40826%2C%205.31155%5D%2C%20%5B52.4082%2C%205.31156%5D%2C%20%5B52.40815%2C%205.31159%5D%2C%20%5B52.40811%2C%205.31166%5D%2C%20%5B52.40809%2C%205.31175%5D%2C%20%5B52.40811%2C%205.31191%5D%2C%20%5B52.40802%2C%205.31206%5D%2C%20%5B52.40787%2C%205.31222%5D%2C%20%5B52.40775%2C%205.31234%5D%2C%20%5B52.40743%2C%205.3127%5D%2C%20%5B52.40717%2C%205.31299%5D%2C%20%5B52.40714%2C%205.313%5D%2C%20%5B52.4071%2C%205.31302%5D%2C%20%5B52.40692%2C%205.31318%5D%2C%20%5B52.40532%2C%205.30949%5D%2C%20%5B52.40504%2C%205.30877%5D%2C%20%5B52.40402%2C%205.30644%5D%2C%20%5B52.4038%2C%205.3059%5D%2C%20%5B52.40379%2C%205.30587%5D%2C%20%5B52.40387%2C%205.3058%5D%2C%20%5B52.40404%2C%205.30561%5D%2C%20%5B52.40428%2C%205.30544%5D%2C%20%5B52.40471%2C%205.30521%5D%2C%20%5B52.40493%2C%205.30499%5D%2C%20%5B52.40527%2C%205.30457%5D%2C%20%5B52.40544%2C%205.30428%5D%2C%20%5B52.40555%2C%205.30407%5D%2C%20%5B52.40562%2C%205.30397%5D%2C%20%5B52.40565%2C%205.30393%5D%2C%20%5B52.40544%2C%205.30326%5D%2C%20%5B52.4051%2C%205.3022%5D%2C%20%5B52.40489%2C%205.30158%5D%2C%20%5B52.40461%2C%205.30078%5D%2C%20%5B52.40414%2C%205.2995%5D%2C%20%5B52.40411%2C%205.29941%5D%2C%20%5B52.4044%2C%205.2991%5D%2C%20%5B52.40499%2C%205.29853%5D%2C%20%5B52.40588%2C%205.29767%5D%2C%20%5B52.40602%2C%205.29754%5D%5D%2C%0A%20%20%20%20%20%20%20%20%20%20%20%20%20%20%20%20%7B%22bubblingMouseEvents%22%3A%20true%2C%20%22color%22%3A%20%22red%22%2C%20%22dashArray%22%3A%20null%2C%20%22dashOffset%22%3A%20null%2C%20%22fill%22%3A%20false%2C%20%22fillColor%22%3A%20%22red%22%2C%20%22fillOpacity%22%3A%200.2%2C%20%22fillRule%22%3A%20%22evenodd%22%2C%20%22lineCap%22%3A%20%22round%22%2C%20%22lineJoin%22%3A%20%22round%22%2C%20%22noClip%22%3A%20false%2C%20%22opacity%22%3A%200.8%2C%20%22smoothFactor%22%3A%201.0%2C%20%22stroke%22%3A%20true%2C%20%22weight%22%3A%205%7D%0A%20%20%20%20%20%20%20%20%20%20%20%20%29.addTo%28map_63f5f85d58b64f53a4bbc3a9b52620de%29%3B%0A%20%20%20%20%20%20%20%20%0A%20%20%20%20%0A%20%20%20%20%20%20%20%20%20%20%20%20var%20marker_7bd6272408f1447dbefb163a3c7041eb%20%3D%20L.marker%28%0A%20%20%20%20%20%20%20%20%20%20%20%20%20%20%20%20%5B52.41183%2C%205.3047%5D%2C%0A%20%20%20%20%20%20%20%20%20%20%20%20%20%20%20%20%7B%7D%0A%20%20%20%20%20%20%20%20%20%20%20%20%29.addTo%28map_63f5f85d58b64f53a4bbc3a9b52620de%29%3B%0A%20%20%20%20%20%20%20%20%0A%20%20%20%20%0A%20%20%20%20%20%20%20%20%20%20%20%20var%20icon_04647de51c0f4e999f8067400b3ea2fd%20%3D%20L.AwesomeMarkers.icon%28%0A%20%20%20%20%20%20%20%20%20%20%20%20%20%20%20%20%7B%22extraClasses%22%3A%20%22fa-rotate-0%22%2C%20%22icon%22%3A%20%22map-pin%22%2C%20%22iconColor%22%3A%20%22white%22%2C%20%22markerColor%22%3A%20%22red%22%2C%20%22prefix%22%3A%20%22fa%22%7D%0A%20%20%20%20%20%20%20%20%20%20%20%20%29%3B%0A%20%20%20%20%20%20%20%20%20%20%20%20marker_7bd6272408f1447dbefb163a3c7041eb.setIcon%28icon_04647de51c0f4e999f8067400b3ea2fd%29%3B%0A%20%20%20%20%20%20%20%20%0A%20%20%20%20%0A%20%20%20%20%20%20%20%20var%20popup_8ed5f513812147779383280c24448e85%20%3D%20L.popup%28%7B%22maxWidth%22%3A%20%22100%25%22%7D%29%3B%0A%0A%20%20%20%20%20%20%20%20%0A%20%20%20%20%20%20%20%20%20%20%20%20var%20html_fa147054e44a4f02b028a1fcff304501%20%3D%20%24%28%60%3Cdiv%20id%3D%22html_fa147054e44a4f02b028a1fcff304501%22%20style%3D%22width%3A%20100.0%25%3B%20height%3A%20100.0%25%3B%22%3EStart%20Location%20-%20%3Cb%3ESieradenbuurt%3C/b%3E%3C/div%3E%60%29%5B0%5D%3B%0A%20%20%20%20%20%20%20%20%20%20%20%20popup_8ed5f513812147779383280c24448e85.setContent%28html_fa147054e44a4f02b028a1fcff304501%29%3B%0A%20%20%20%20%20%20%20%20%0A%0A%20%20%20%20%20%20%20%20marker_7bd6272408f1447dbefb163a3c7041eb.bindPopup%28popup_8ed5f513812147779383280c24448e85%29%0A%20%20%20%20%20%20%20%20%3B%0A%0A%20%20%20%20%20%20%20%20%0A%20%20%20%20%0A%20%20%20%20%0A%20%20%20%20%20%20%20%20%20%20%20%20marker_7bd6272408f1447dbefb163a3c7041eb.bindTooltip%28%0A%20%20%20%20%20%20%20%20%20%20%20%20%20%20%20%20%60%3Cdiv%3E%0A%20%20%20%20%20%20%20%20%20%20%20%20%20%20%20%20%20%20%20%20%20%3Cstrong%3ESieradenbuurt%3C/strong%3E%0A%20%20%20%20%20%20%20%20%20%20%20%20%20%20%20%20%20%3C/div%3E%60%2C%0A%20%20%20%20%20%20%20%20%20%20%20%20%20%20%20%20%7B%22sticky%22%3A%20true%7D%0A%20%20%20%20%20%20%20%20%20%20%20%20%29%3B%0A%20%20%20%20%20%20%20%20%0A%20%20%20%20%0A%20%20%20%20%20%20%20%20%20%20%20%20var%20marker_2f0bdd8071df4edc9137b54e080ff8a3%20%3D%20L.marker%28%0A%20%20%20%20%20%20%20%20%20%20%20%20%20%20%20%20%5B52.40602%2C%205.29754%5D%2C%0A%20%20%20%20%20%20%20%20%20%20%20%20%20%20%20%20%7B%7D%0A%20%20%20%20%20%20%20%20%20%20%20%20%29.addTo%28map_63f5f85d58b64f53a4bbc3a9b52620de%29%3B%0A%20%20%20%20%20%20%20%20%0A%20%20%20%20%0A%20%20%20%20%20%20%20%20%20%20%20%20var%20icon_807c206ce40f4592b7c6c20c90301810%20%3D%20L.AwesomeMarkers.icon%28%0A%20%20%20%20%20%20%20%20%20%20%20%20%20%20%20%20%7B%22extraClasses%22%3A%20%22fa-rotate-0%22%2C%20%22icon%22%3A%20%22flag-checkered%22%2C%20%22iconColor%22%3A%20%22white%22%2C%20%22markerColor%22%3A%20%22red%22%2C%20%22prefix%22%3A%20%22fa%22%7D%0A%20%20%20%20%20%20%20%20%20%20%20%20%29%3B%0A%20%20%20%20%20%20%20%20%20%20%20%20marker_2f0bdd8071df4edc9137b54e080ff8a3.setIcon%28icon_807c206ce40f4592b7c6c20c90301810%29%3B%0A%20%20%20%20%20%20%20%20%0A%20%20%20%20%0A%20%20%20%20%20%20%20%20var%20popup_c666cc275d6c4d5c8cc4de32f4fbf3f7%20%3D%20L.popup%28%7B%22maxWidth%22%3A%20%22100%25%22%7D%29%3B%0A%0A%20%20%20%20%20%20%20%20%0A%20%20%20%20%20%20%20%20%20%20%20%20var%20html_979f123422cb4b67ac9621e64ade2c76%20%3D%20%24%28%60%3Cdiv%20id%3D%22html_979f123422cb4b67ac9621e64ade2c76%22%20style%3D%22width%3A%20100.0%25%3B%20height%3A%20100.0%25%3B%22%3EEnd%20Location%20-%20%3Cb%3EOOstvaardersbuurt%3C/b%3E%3C/div%3E%60%29%5B0%5D%3B%0A%20%20%20%20%20%20%20%20%20%20%20%20popup_c666cc275d6c4d5c8cc4de32f4fbf3f7.setContent%28html_979f123422cb4b67ac9621e64ade2c76%29%3B%0A%20%20%20%20%20%20%20%20%0A%0A%20%20%20%20%20%20%20%20marker_2f0bdd8071df4edc9137b54e080ff8a3.bindPopup%28popup_c666cc275d6c4d5c8cc4de32f4fbf3f7%29%0A%20%20%20%20%20%20%20%20%3B%0A%0A%20%20%20%20%20%20%20%20%0A%20%20%20%20%0A%20%20%20%20%0A%20%20%20%20%20%20%20%20%20%20%20%20marker_2f0bdd8071df4edc9137b54e080ff8a3.bindTooltip%28%0A%20%20%20%20%20%20%20%20%20%20%20%20%20%20%20%20%60%3Cdiv%3E%0A%20%20%20%20%20%20%20%20%20%20%20%20%20%20%20%20%20%20%20%20%20%3Cstrong%3EOOstvaardersbuurt%3C/strong%3E%0A%20%20%20%20%20%20%20%20%20%20%20%20%20%20%20%20%20%3C/div%3E%60%2C%0A%20%20%20%20%20%20%20%20%20%20%20%20%20%20%20%20%7B%22sticky%22%3A%20true%7D%0A%20%20%20%20%20%20%20%20%20%20%20%20%29%3B%0A%20%20%20%20%20%20%20%20%0A%3C/script%3E onload=\"this.contentDocument.open();this.contentDocument.write(    decodeURIComponent(this.getAttribute('data-html')));this.contentDocument.close();\" allowfullscreen webkitallowfullscreen mozallowfullscreen></iframe></div></div>"
      ],
      "text/plain": [
       "<folium.folium.Map at 0x7fa0f97e8fd0>"
      ]
     },
     "metadata": {},
     "output_type": "display_data"
    },
    {
     "name": "stdout",
     "output_type": "stream",
     "text": [
      "Distance: 2.3 km\n",
      "Duration: 6 mins\n",
      "1. Head northeast on Sieradenweg toward Parurestraat\n",
      "2. Turn right onto Bintangweg/Sieradenweg\n",
      "3. Turn right onto Evenaar\n",
      "4. At the roundabout, take the 1st exit\n",
      "5. Continue onto Niasstraat\n",
      "6. Continue onto Reijgersdaalstraat\n",
      "7. Turn left onto Laan der V.O.C.\n",
      "8. Turn right onto Cornelis Matelieffstraat\n",
      "Destination will be on the right\n"
     ]
    }
   ],
   "source": [
    "with open('config.json') as f:\n",
    "    config = json.load(f)\n",
    "    key = config['apiKey']\n",
    "    \n",
    "mode = 'bus'\n",
    "origin = 'Sieradenbuurt'\n",
    "destination = 'OOstvaardersbuurt'\n",
    "departure = \"11/03/2022 14:48\"\n",
    "arrival = None\n",
    "   \n",
    "def map_start(a, b):\n",
    "    return ((a[0] + b[0]) / 2, (a[1] + b[1]) / 2)\n",
    "    \n",
    "def convert_unix(date):\n",
    "    if date != None:\n",
    "        return int(time.mktime(datetime.datetime.strptime(date, \"%d/%m/%Y %H:%M\").timetuple()))\n",
    "    else:\n",
    "        return None\n",
    "    \n",
    "def json_route(origin, destination, departure, arrival):\n",
    "    url = 'https://maps.googleapis.com/maps/api/directions/json?'\n",
    "    params = {\n",
    "        'mode': mode.lower(),\n",
    "        'origin': origin,\n",
    "        'destination':destination, \n",
    "        'region':'nl',\n",
    "        'key': key\n",
    "    }\n",
    "    if departure != None:\n",
    "        params['departure_time'] = convert_unix(departure)\n",
    "    \n",
    "    response = requests.post(url, params=params)\n",
    "    if response.status_code == 200:\n",
    "        return json.loads(response.text)\n",
    "    else:\n",
    "        return {}\n",
    "\n",
    "def get_coordinates(raw_json):\n",
    "    if len(raw_json) > 0:\n",
    "        coordinates = polyline.decode(raw_json['routes'][0]['overview_polyline']['points'], 5)\n",
    "        return coordinates\n",
    "    else:\n",
    "        return False\n",
    "\n",
    "def make_map(coordinates):\n",
    "    if coordinates != False:\n",
    "        start_coord = coordinates[0]\n",
    "        end_coord = coordinates[len(coordinates) - 1]\n",
    "\n",
    "        map = folium.Map(location=map_start(start_coord, end_coord),\n",
    "                    zoom_start=15)\n",
    "        \n",
    "        folium.PolyLine(coordinates,\n",
    "                        color='red',\n",
    "                        weight=5,\n",
    "                        opacity=0.8).add_to(map)\n",
    "        \n",
    "        folium.Marker(location=start_coord, popup=f'Start Location - <b>{origin}</b>', tooltip=f'<strong>{origin}</strong>', icon=folium.Icon(color='red', icon='map-pin', prefix = 'fa')).add_to(map)\n",
    "        folium.Marker(location=end_coord, popup=f'End Location - <b>{destination}</b>', tooltip=f'<strong>{destination}</strong>', icon=folium.Icon(color='red', icon='flag-checkered', prefix = 'fa')).add_to(map)\n",
    "        map.save(\"map.html\")\n",
    "        display(map)\n",
    "    else:\n",
    "        return \"Could not process map\"\n",
    "        \n",
    "def process_routing_info(raw_json):\n",
    "    steps = []\n",
    "    distance = raw_json['routes'][0]['legs'][0]['distance']['value']\n",
    "    duration = raw_json['routes'][0]['legs'][0]['duration']['text']\n",
    "    \n",
    "    if mode in ['transit']:\n",
    "        departure_time = raw_json['routes'][0]['legs'][0]['departure_time']['text']\n",
    "        arrival_time = raw_json['routes'][0]['legs'][0]['arrival_time']['text']\n",
    "        times = (departure_time, arrival_time)\n",
    "        print(f\"Planned departure: {departure_time}\\nPlanned arrival: {arrival_time}\")\n",
    "    else:\n",
    "        times = None\n",
    "    \n",
    "    if distance >= 1000:\n",
    "        distance = round(distance/1000, 2)\n",
    "        print('Distance: {} km'.format(distance))\n",
    "    else:\n",
    "        print('Distance {} m'.format(distance))\n",
    "    print(f\"Duration: {duration}\")\n",
    "    \n",
    "    steps = [re.sub('<[^<]+?>', '', step['html_instructions'].replace('<div style=\"font-size:0.9em\">', '\\n')) for step in raw_json['routes'][0]['legs'][0]['steps']]\n",
    "    for step in range(len(steps)):\n",
    "        print(f\"{step+1}. {steps[step]}\")\n",
    "    return [distance, duration, steps, times]\n",
    "\n",
    "def main():\n",
    "    raw_json = json_route(origin, destination, departure, arrival)\n",
    "    #display(raw_json)\n",
    "    coordinates = get_coordinates(raw_json)\n",
    "    make_map(coordinates)\n",
    "    route_info = process_routing_info(raw_json)\n",
    "    \n",
    "main()\n"
   ]
  },
  {
   "cell_type": "markdown",
   "metadata": {},
   "source": [
    "## See monuments"
   ]
  },
  {
   "cell_type": "code",
   "execution_count": 22,
   "metadata": {},
   "outputs": [
    {
     "name": "stdout",
     "output_type": "stream",
     "text": [
      "{'Hotel ibis Amsterdam Centre': [52.3796129, 4.8971342], 'Park Plaza Victoria Amsterdam': [52.37709, 4.8979799], 'INK Hotel Amsterdam - MGallery': [52.3754828, 4.8930435], 'Radisson Blu Hotel, Amsterdam City Center': [52.3702272, 4.8967209], 'Hotel ibis Amsterdam Centre Stopera': [52.3700867, 4.907651], 'Hotel Torenzicht': [52.3725361, 4.8981806], 'Hotel Swissôtel Amsterdam': [52.37361019999999, 4.8933274], 'Grand Hotel Amrâth Amsterdam': [52.37458710000001, 4.903903199999999], \"Belushi's\": [52.373999, 4.8962872], 'Die Port Van Cleve': [52.3740512, 4.8906021], 'Hotel Old Nickel': [52.37634569999999, 4.899674699999998], 'Hotel Prins Hendrik': [52.37652749999999, 4.8995948], \"art'otel amsterdam\": [52.37764, 4.89716], 'Hotel V': [52.3708421, 4.893662900000001], 'Hotel Doria': [52.3724415, 4.8943599], 'Hotel Jimmy': [52.3777175, 4.896180500000001], 'Vapiano Amsterdam Oosterdokskade': [52.3758926, 4.9083771], 'De Belhamel': [52.3794166, 4.892049], 'Mata Hari': [52.3746613, 4.90013], 'Winkel 43': [52.379085, 4.886238]}\n"
     ]
    }
   ],
   "source": [
    "url = f\"https://maps.googleapis.com/maps/api/place/nearbysearch/json?\"\n",
    "\n",
    "params = {\n",
    "        'location':'52.3791,4.9003', \n",
    "        'radius': '30000',\n",
    "        'type': 'restaurant',\n",
    "        'key': key\n",
    "    }\n",
    "\n",
    "response = requests.get(url, params=params)\n",
    "json_response = json.loads(response.text)\n",
    "location_dict = {}\n",
    "for place in json_response['results']:\n",
    "    location_dict[place['name']] = list(place['geometry']['location'].values())\n",
    "print(location_dict)"
   ]
  },
  {
   "cell_type": "code",
   "execution_count": null,
   "metadata": {},
   "outputs": [],
   "source": []
  }
 ],
 "metadata": {
  "kernelspec": {
   "display_name": "Python 3",
   "language": "python",
   "name": "python3"
  },
  "language_info": {
   "codemirror_mode": {
    "name": "ipython",
    "version": 3
   },
   "file_extension": ".py",
   "mimetype": "text/x-python",
   "name": "python",
   "nbconvert_exporter": "python",
   "pygments_lexer": "ipython3",
   "version": "3.7.4"
  }
 },
 "nbformat": 4,
 "nbformat_minor": 2
}
