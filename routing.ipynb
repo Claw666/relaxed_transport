{
 "cells": [
  {
   "cell_type": "code",
   "execution_count": 1,
   "metadata": {},
   "outputs": [],
   "source": [
    "import requests, json, time\n",
    "import polyline, folium\n",
    "import datetime\n",
    "import re"
   ]
  },
  {
   "cell_type": "code",
   "execution_count": 10,
   "metadata": {
    "scrolled": false
   },
   "outputs": [
    {
     "data": {
      "text/html": [
       "<div style=\"width:100%;\"><div style=\"position:relative;width:100%;height:0;padding-bottom:60%;\"><span style=\"color:#565656\">Make this Notebook Trusted to load map: File -> Trust Notebook</span><iframe src=\"about:blank\" style=\"position:absolute;width:100%;height:100%;left:0;top:0;border:none !important;\" data-html=%3C%21DOCTYPE%20html%3E%0A%3Chead%3E%20%20%20%20%0A%20%20%20%20%3Cmeta%20http-equiv%3D%22content-type%22%20content%3D%22text/html%3B%20charset%3DUTF-8%22%20/%3E%0A%20%20%20%20%0A%20%20%20%20%20%20%20%20%3Cscript%3E%0A%20%20%20%20%20%20%20%20%20%20%20%20L_NO_TOUCH%20%3D%20false%3B%0A%20%20%20%20%20%20%20%20%20%20%20%20L_DISABLE_3D%20%3D%20false%3B%0A%20%20%20%20%20%20%20%20%3C/script%3E%0A%20%20%20%20%0A%20%20%20%20%3Cstyle%3Ehtml%2C%20body%20%7Bwidth%3A%20100%25%3Bheight%3A%20100%25%3Bmargin%3A%200%3Bpadding%3A%200%3B%7D%3C/style%3E%0A%20%20%20%20%3Cstyle%3E%23map%20%7Bposition%3Aabsolute%3Btop%3A0%3Bbottom%3A0%3Bright%3A0%3Bleft%3A0%3B%7D%3C/style%3E%0A%20%20%20%20%3Cscript%20src%3D%22https%3A//cdn.jsdelivr.net/npm/leaflet%401.6.0/dist/leaflet.js%22%3E%3C/script%3E%0A%20%20%20%20%3Cscript%20src%3D%22https%3A//code.jquery.com/jquery-1.12.4.min.js%22%3E%3C/script%3E%0A%20%20%20%20%3Cscript%20src%3D%22https%3A//maxcdn.bootstrapcdn.com/bootstrap/3.2.0/js/bootstrap.min.js%22%3E%3C/script%3E%0A%20%20%20%20%3Cscript%20src%3D%22https%3A//cdnjs.cloudflare.com/ajax/libs/Leaflet.awesome-markers/2.0.2/leaflet.awesome-markers.js%22%3E%3C/script%3E%0A%20%20%20%20%3Clink%20rel%3D%22stylesheet%22%20href%3D%22https%3A//cdn.jsdelivr.net/npm/leaflet%401.6.0/dist/leaflet.css%22/%3E%0A%20%20%20%20%3Clink%20rel%3D%22stylesheet%22%20href%3D%22https%3A//maxcdn.bootstrapcdn.com/bootstrap/3.2.0/css/bootstrap.min.css%22/%3E%0A%20%20%20%20%3Clink%20rel%3D%22stylesheet%22%20href%3D%22https%3A//maxcdn.bootstrapcdn.com/bootstrap/3.2.0/css/bootstrap-theme.min.css%22/%3E%0A%20%20%20%20%3Clink%20rel%3D%22stylesheet%22%20href%3D%22https%3A//maxcdn.bootstrapcdn.com/font-awesome/4.6.3/css/font-awesome.min.css%22/%3E%0A%20%20%20%20%3Clink%20rel%3D%22stylesheet%22%20href%3D%22https%3A//cdnjs.cloudflare.com/ajax/libs/Leaflet.awesome-markers/2.0.2/leaflet.awesome-markers.css%22/%3E%0A%20%20%20%20%3Clink%20rel%3D%22stylesheet%22%20href%3D%22https%3A//cdn.jsdelivr.net/gh/python-visualization/folium/folium/templates/leaflet.awesome.rotate.min.css%22/%3E%0A%20%20%20%20%0A%20%20%20%20%20%20%20%20%20%20%20%20%3Cmeta%20name%3D%22viewport%22%20content%3D%22width%3Ddevice-width%2C%0A%20%20%20%20%20%20%20%20%20%20%20%20%20%20%20%20initial-scale%3D1.0%2C%20maximum-scale%3D1.0%2C%20user-scalable%3Dno%22%20/%3E%0A%20%20%20%20%20%20%20%20%20%20%20%20%3Cstyle%3E%0A%20%20%20%20%20%20%20%20%20%20%20%20%20%20%20%20%23map_eaeb61f3008c41c4ae0348908ad62247%20%7B%0A%20%20%20%20%20%20%20%20%20%20%20%20%20%20%20%20%20%20%20%20position%3A%20relative%3B%0A%20%20%20%20%20%20%20%20%20%20%20%20%20%20%20%20%20%20%20%20width%3A%20100.0%25%3B%0A%20%20%20%20%20%20%20%20%20%20%20%20%20%20%20%20%20%20%20%20height%3A%20100.0%25%3B%0A%20%20%20%20%20%20%20%20%20%20%20%20%20%20%20%20%20%20%20%20left%3A%200.0%25%3B%0A%20%20%20%20%20%20%20%20%20%20%20%20%20%20%20%20%20%20%20%20top%3A%200.0%25%3B%0A%20%20%20%20%20%20%20%20%20%20%20%20%20%20%20%20%7D%0A%20%20%20%20%20%20%20%20%20%20%20%20%3C/style%3E%0A%20%20%20%20%20%20%20%20%0A%3C/head%3E%0A%3Cbody%3E%20%20%20%20%0A%20%20%20%20%0A%20%20%20%20%20%20%20%20%20%20%20%20%3Cdiv%20class%3D%22folium-map%22%20id%3D%22map_eaeb61f3008c41c4ae0348908ad62247%22%20%3E%3C/div%3E%0A%20%20%20%20%20%20%20%20%0A%3C/body%3E%0A%3Cscript%3E%20%20%20%20%0A%20%20%20%20%0A%20%20%20%20%20%20%20%20%20%20%20%20var%20map_eaeb61f3008c41c4ae0348908ad62247%20%3D%20L.map%28%0A%20%20%20%20%20%20%20%20%20%20%20%20%20%20%20%20%22map_eaeb61f3008c41c4ae0348908ad62247%22%2C%0A%20%20%20%20%20%20%20%20%20%20%20%20%20%20%20%20%7B%0A%20%20%20%20%20%20%20%20%20%20%20%20%20%20%20%20%20%20%20%20center%3A%20%5B52.367644999999996%2C%204.88968%5D%2C%0A%20%20%20%20%20%20%20%20%20%20%20%20%20%20%20%20%20%20%20%20crs%3A%20L.CRS.EPSG3857%2C%0A%20%20%20%20%20%20%20%20%20%20%20%20%20%20%20%20%20%20%20%20zoom%3A%2015%2C%0A%20%20%20%20%20%20%20%20%20%20%20%20%20%20%20%20%20%20%20%20zoomControl%3A%20true%2C%0A%20%20%20%20%20%20%20%20%20%20%20%20%20%20%20%20%20%20%20%20preferCanvas%3A%20false%2C%0A%20%20%20%20%20%20%20%20%20%20%20%20%20%20%20%20%7D%0A%20%20%20%20%20%20%20%20%20%20%20%20%29%3B%0A%0A%20%20%20%20%20%20%20%20%20%20%20%20%0A%0A%20%20%20%20%20%20%20%20%0A%20%20%20%20%0A%20%20%20%20%20%20%20%20%20%20%20%20var%20tile_layer_28936eefd16949a9a3a127d59ad37267%20%3D%20L.tileLayer%28%0A%20%20%20%20%20%20%20%20%20%20%20%20%20%20%20%20%22https%3A//%7Bs%7D.tile.openstreetmap.org/%7Bz%7D/%7Bx%7D/%7By%7D.png%22%2C%0A%20%20%20%20%20%20%20%20%20%20%20%20%20%20%20%20%7B%22attribution%22%3A%20%22Data%20by%20%5Cu0026copy%3B%20%5Cu003ca%20href%3D%5C%22http%3A//openstreetmap.org%5C%22%5Cu003eOpenStreetMap%5Cu003c/a%5Cu003e%2C%20under%20%5Cu003ca%20href%3D%5C%22http%3A//www.openstreetmap.org/copyright%5C%22%5Cu003eODbL%5Cu003c/a%5Cu003e.%22%2C%20%22detectRetina%22%3A%20false%2C%20%22maxNativeZoom%22%3A%2018%2C%20%22maxZoom%22%3A%2018%2C%20%22minZoom%22%3A%200%2C%20%22noWrap%22%3A%20false%2C%20%22opacity%22%3A%201%2C%20%22subdomains%22%3A%20%22abc%22%2C%20%22tms%22%3A%20false%7D%0A%20%20%20%20%20%20%20%20%20%20%20%20%29.addTo%28map_eaeb61f3008c41c4ae0348908ad62247%29%3B%0A%20%20%20%20%20%20%20%20%0A%20%20%20%20%0A%20%20%20%20%20%20%20%20%20%20%20%20var%20poly_line_3ab378d4374b482eb6eca4e26b3d2376%20%3D%20L.polyline%28%0A%20%20%20%20%20%20%20%20%20%20%20%20%20%20%20%20%5B%5B52.3717%2C%204.89048%5D%2C%20%5B52.37178%2C%204.8905%5D%2C%20%5B52.3719%2C%204.89047%5D%2C%20%5B52.37216%2C%204.89046%5D%2C%20%5B52.37217%2C%204.89059%5D%2C%20%5B52.37238%2C%204.89059%5D%2C%20%5B52.37251%2C%204.89049%5D%2C%20%5B52.37254%2C%204.89048%5D%2C%20%5B52.37254%2C%204.89066%5D%2C%20%5B52.37257%2C%204.89084%5D%2C%20%5B52.37274%2C%204.89084%5D%2C%20%5B52.37286%2C%204.89083%5D%2C%20%5B52.37315%2C%204.89077%5D%2C%20%5B52.37325%2C%204.89076%5D%2C%20%5B52.37354%2C%204.89088%5D%2C%20%5B52.3736%2C%204.89091%5D%2C%20%5B52.37374%2C%204.89095%5D%2C%20%5B52.37377%2C%204.89078%5D%2C%20%5B52.37375%2C%204.89083%5D%2C%20%5B52.3735%2C%204.89071%5D%2C%20%5B52.37319%2C%204.89059%5D%2C%20%5B52.37309%2C%204.89056%5D%2C%20%5B52.37252%2C%204.8906%5D%2C%20%5B52.37189%2C%204.89063%5D%2C%20%5B52.37159%2C%204.89065%5D%2C%20%5B52.37148%2C%204.89065%5D%2C%20%5B52.37137%2C%204.89061%5D%2C%20%5B52.37094%2C%204.89038%5D%2C%20%5B52.37075%2C%204.89026%5D%2C%20%5B52.37051%2C%204.89003%5D%2C%20%5B52.37028%2C%204.88983%5D%2C%20%5B52.37016%2C%204.88975%5D%2C%20%5B52.36978%2C%204.88952%5D%2C%20%5B52.36929%2C%204.8893%5D%2C%20%5B52.36885%2C%204.88926%5D%2C%20%5B52.36877%2C%204.88924%5D%2C%20%5B52.36866%2C%204.88918%5D%2C%20%5B52.36857%2C%204.88901%5D%2C%20%5B52.36839%2C%204.8888%5D%2C%20%5B52.36824%2C%204.88876%5D%2C%20%5B52.36816%2C%204.8888%5D%2C%20%5B52.36764%2C%204.88946%5D%2C%20%5B52.36756%2C%204.88955%5D%2C%20%5B52.36744%2C%204.88962%5D%2C%20%5B52.36739%2C%204.88962%5D%2C%20%5B52.36732%2C%204.8896%5D%2C%20%5B52.36721%2C%204.88949%5D%2C%20%5B52.36711%2C%204.8893%5D%2C%20%5B52.36672%2C%204.88808%5D%2C%20%5B52.36596%2C%204.88649%5D%2C%20%5B52.36596%2C%204.88656%5D%2C%20%5B52.36593%2C%204.88652%5D%2C%20%5B52.36581%2C%204.88626%5D%2C%20%5B52.36573%2C%204.88637%5D%2C%20%5B52.36494%2C%204.88775%5D%2C%20%5B52.36445%2C%204.88861%5D%2C%20%5B52.3641%2C%204.88925%5D%2C%20%5B52.36407%2C%204.88933%5D%2C%20%5B52.36389%2C%204.88916%5D%2C%20%5B52.36375%2C%204.88904%5D%2C%20%5B52.36359%2C%204.88888%5D%5D%2C%0A%20%20%20%20%20%20%20%20%20%20%20%20%20%20%20%20%7B%22bubblingMouseEvents%22%3A%20true%2C%20%22color%22%3A%20%22red%22%2C%20%22dashArray%22%3A%20null%2C%20%22dashOffset%22%3A%20null%2C%20%22fill%22%3A%20false%2C%20%22fillColor%22%3A%20%22red%22%2C%20%22fillOpacity%22%3A%200.2%2C%20%22fillRule%22%3A%20%22evenodd%22%2C%20%22lineCap%22%3A%20%22round%22%2C%20%22lineJoin%22%3A%20%22round%22%2C%20%22noClip%22%3A%20false%2C%20%22opacity%22%3A%200.8%2C%20%22smoothFactor%22%3A%201.0%2C%20%22stroke%22%3A%20true%2C%20%22weight%22%3A%205%7D%0A%20%20%20%20%20%20%20%20%20%20%20%20%29.addTo%28map_eaeb61f3008c41c4ae0348908ad62247%29%3B%0A%20%20%20%20%20%20%20%20%0A%20%20%20%20%0A%20%20%20%20%20%20%20%20%20%20%20%20var%20marker_e1a1146faeb341c4979bf41595f822e8%20%3D%20L.marker%28%0A%20%20%20%20%20%20%20%20%20%20%20%20%20%20%20%20%5B52.3717%2C%204.89048%5D%2C%0A%20%20%20%20%20%20%20%20%20%20%20%20%20%20%20%20%7B%7D%0A%20%20%20%20%20%20%20%20%20%20%20%20%29.addTo%28map_eaeb61f3008c41c4ae0348908ad62247%29%3B%0A%20%20%20%20%20%20%20%20%0A%20%20%20%20%0A%20%20%20%20%20%20%20%20%20%20%20%20var%20icon_f94cc2a14a2f48bbaa1a7fab6443487f%20%3D%20L.AwesomeMarkers.icon%28%0A%20%20%20%20%20%20%20%20%20%20%20%20%20%20%20%20%7B%22extraClasses%22%3A%20%22fa-rotate-0%22%2C%20%22icon%22%3A%20%22map-pin%22%2C%20%22iconColor%22%3A%20%22white%22%2C%20%22markerColor%22%3A%20%22red%22%2C%20%22prefix%22%3A%20%22fa%22%7D%0A%20%20%20%20%20%20%20%20%20%20%20%20%29%3B%0A%20%20%20%20%20%20%20%20%20%20%20%20marker_e1a1146faeb341c4979bf41595f822e8.setIcon%28icon_f94cc2a14a2f48bbaa1a7fab6443487f%29%3B%0A%20%20%20%20%20%20%20%20%0A%20%20%20%20%0A%20%20%20%20%20%20%20%20var%20popup_5afbdaa201da475089a1b0161c4bfa24%20%3D%20L.popup%28%7B%22maxWidth%22%3A%20%22100%25%22%7D%29%3B%0A%0A%20%20%20%20%20%20%20%20%0A%20%20%20%20%20%20%20%20%20%20%20%20var%20html_9446cd3a8b134c8a947fdbff6ee2c8ea%20%3D%20%24%28%60%3Cdiv%20id%3D%22html_9446cd3a8b134c8a947fdbff6ee2c8ea%22%20style%3D%22width%3A%20100.0%25%3B%20height%3A%20100.0%25%3B%22%3EStart%20Location%20-%20%3Cb%3EOqium%3C/b%3E%3C/div%3E%60%29%5B0%5D%3B%0A%20%20%20%20%20%20%20%20%20%20%20%20popup_5afbdaa201da475089a1b0161c4bfa24.setContent%28html_9446cd3a8b134c8a947fdbff6ee2c8ea%29%3B%0A%20%20%20%20%20%20%20%20%0A%0A%20%20%20%20%20%20%20%20marker_e1a1146faeb341c4979bf41595f822e8.bindPopup%28popup_5afbdaa201da475089a1b0161c4bfa24%29%0A%20%20%20%20%20%20%20%20%3B%0A%0A%20%20%20%20%20%20%20%20%0A%20%20%20%20%0A%20%20%20%20%0A%20%20%20%20%20%20%20%20%20%20%20%20marker_e1a1146faeb341c4979bf41595f822e8.bindTooltip%28%0A%20%20%20%20%20%20%20%20%20%20%20%20%20%20%20%20%60%3Cdiv%3E%0A%20%20%20%20%20%20%20%20%20%20%20%20%20%20%20%20%20%20%20%20%20%3Cstrong%3EOqium%3C/strong%3E%0A%20%20%20%20%20%20%20%20%20%20%20%20%20%20%20%20%20%3C/div%3E%60%2C%0A%20%20%20%20%20%20%20%20%20%20%20%20%20%20%20%20%7B%22sticky%22%3A%20true%7D%0A%20%20%20%20%20%20%20%20%20%20%20%20%29%3B%0A%20%20%20%20%20%20%20%20%0A%20%20%20%20%0A%20%20%20%20%20%20%20%20%20%20%20%20var%20marker_b14bf0e067f44ccbb12d90ec47e3ae70%20%3D%20L.marker%28%0A%20%20%20%20%20%20%20%20%20%20%20%20%20%20%20%20%5B52.36359%2C%204.88888%5D%2C%0A%20%20%20%20%20%20%20%20%20%20%20%20%20%20%20%20%7B%7D%0A%20%20%20%20%20%20%20%20%20%20%20%20%29.addTo%28map_eaeb61f3008c41c4ae0348908ad62247%29%3B%0A%20%20%20%20%20%20%20%20%0A%20%20%20%20%0A%20%20%20%20%20%20%20%20%20%20%20%20var%20icon_11bff443780e4fd29594235cde2ebe98%20%3D%20L.AwesomeMarkers.icon%28%0A%20%20%20%20%20%20%20%20%20%20%20%20%20%20%20%20%7B%22extraClasses%22%3A%20%22fa-rotate-0%22%2C%20%22icon%22%3A%20%22flag-checkered%22%2C%20%22iconColor%22%3A%20%22white%22%2C%20%22markerColor%22%3A%20%22red%22%2C%20%22prefix%22%3A%20%22fa%22%7D%0A%20%20%20%20%20%20%20%20%20%20%20%20%29%3B%0A%20%20%20%20%20%20%20%20%20%20%20%20marker_b14bf0e067f44ccbb12d90ec47e3ae70.setIcon%28icon_11bff443780e4fd29594235cde2ebe98%29%3B%0A%20%20%20%20%20%20%20%20%0A%20%20%20%20%0A%20%20%20%20%20%20%20%20var%20popup_402fc703910448849c005b17ba525d52%20%3D%20L.popup%28%7B%22maxWidth%22%3A%20%22100%25%22%7D%29%3B%0A%0A%20%20%20%20%20%20%20%20%0A%20%20%20%20%20%20%20%20%20%20%20%20var%20html_b7334b78d26e458fa2be751b75d3c8ca%20%3D%20%24%28%60%3Cdiv%20id%3D%22html_b7334b78d26e458fa2be751b75d3c8ca%22%20style%3D%22width%3A%20100.0%25%3B%20height%3A%20100.0%25%3B%22%3EEnd%20Location%20-%20%3Cb%3EOallery%3C/b%3E%3C/div%3E%60%29%5B0%5D%3B%0A%20%20%20%20%20%20%20%20%20%20%20%20popup_402fc703910448849c005b17ba525d52.setContent%28html_b7334b78d26e458fa2be751b75d3c8ca%29%3B%0A%20%20%20%20%20%20%20%20%0A%0A%20%20%20%20%20%20%20%20marker_b14bf0e067f44ccbb12d90ec47e3ae70.bindPopup%28popup_402fc703910448849c005b17ba525d52%29%0A%20%20%20%20%20%20%20%20%3B%0A%0A%20%20%20%20%20%20%20%20%0A%20%20%20%20%0A%20%20%20%20%0A%20%20%20%20%20%20%20%20%20%20%20%20marker_b14bf0e067f44ccbb12d90ec47e3ae70.bindTooltip%28%0A%20%20%20%20%20%20%20%20%20%20%20%20%20%20%20%20%60%3Cdiv%3E%0A%20%20%20%20%20%20%20%20%20%20%20%20%20%20%20%20%20%20%20%20%20%3Cstrong%3EOallery%3C/strong%3E%0A%20%20%20%20%20%20%20%20%20%20%20%20%20%20%20%20%20%3C/div%3E%60%2C%0A%20%20%20%20%20%20%20%20%20%20%20%20%20%20%20%20%7B%22sticky%22%3A%20true%7D%0A%20%20%20%20%20%20%20%20%20%20%20%20%29%3B%0A%20%20%20%20%20%20%20%20%0A%3C/script%3E onload=\"this.contentDocument.open();this.contentDocument.write(    decodeURIComponent(this.getAttribute('data-html')));this.contentDocument.close();\" allowfullscreen webkitallowfullscreen mozallowfullscreen></iframe></div></div>"
      ],
      "text/plain": [
       "<folium.folium.Map at 0x7f7b3a96fa90>"
      ]
     },
     "metadata": {},
     "output_type": "display_data"
    },
    {
     "name": "stdout",
     "output_type": "stream",
     "text": [
      "Planned departure: 12:50pm\n",
      "Planned arrival: 1:02pm\n",
      "Distance: 1.65 km\n",
      "Duration: 12 mins\n",
      "1. Walk to Amsterdam, Dam\n",
      "2. Tram towards Nieuw Sloten\n",
      "3. Walk to Nieuwe Spiegelstraat 39, 1017 DC Amsterdam, Netherlands\n"
     ]
    }
   ],
   "source": [
    "with open('config.json') as f:\n",
    "    config = json.load(f)\n",
    "    key = config['apiKey']\n",
    "    \n",
    "mode = 'transit'\n",
    "origin = 'Oqium'\n",
    "destination = 'Oallery'\n",
    "departure = \"09/03/2022 12:48\"\n",
    "arrival = None\n",
    "   \n",
    "def map_start(a, b):\n",
    "    return ((a[0] + b[0]) / 2, (a[1] + b[1]) / 2)\n",
    "    \n",
    "def convert_unix(date):\n",
    "    if date != None:\n",
    "        return int(time.mktime(datetime.datetime.strptime(date, \"%d/%m/%Y %H:%M\").timetuple()))\n",
    "    else:\n",
    "        return None\n",
    "    \n",
    "def json_route(origin, destination, departure, arrival):\n",
    "    url = 'https://maps.googleapis.com/maps/api/directions/json?'\n",
    "    params = {\n",
    "        'mode': mode.lower(),\n",
    "        'origin': origin,\n",
    "        'destination':destination, \n",
    "        'region':'nl',\n",
    "        'key': key\n",
    "    }\n",
    "    if departure != None:\n",
    "        params['departure_time'] = convert_unix(departure)\n",
    "    \n",
    "    response = requests.post(url, params=params)\n",
    "    if response.status_code == 200:\n",
    "        return json.loads(response.text)\n",
    "    else:\n",
    "        return {}\n",
    "\n",
    "def get_coordinates(raw_json):\n",
    "    if len(raw_json) > 0:\n",
    "        coordinates = polyline.decode(raw_json['routes'][0]['overview_polyline']['points'], 5)\n",
    "        return coordinates\n",
    "    else:\n",
    "        return False\n",
    "\n",
    "def make_map(coordinates):\n",
    "    if coordinates != False:\n",
    "        start_coord = coordinates[0]\n",
    "        end_coord = coordinates[len(coordinates) - 1]\n",
    "\n",
    "        map = folium.Map(location=map_start(start_coord, end_coord),\n",
    "                    zoom_start=15)\n",
    "        \n",
    "        folium.PolyLine(coordinates,\n",
    "                        color='red',\n",
    "                        weight=5,\n",
    "                        opacity=0.8).add_to(map)\n",
    "        \n",
    "        folium.Marker(location=start_coord, popup=f'Start Location - <b>{origin}</b>', tooltip=f'<strong>{origin}</strong>', icon=folium.Icon(color='red', icon='map-pin', prefix = 'fa')).add_to(map)\n",
    "        folium.Marker(location=end_coord, popup=f'End Location - <b>{destination}</b>', tooltip=f'<strong>{destination}</strong>', icon=folium.Icon(color='red', icon='flag-checkered', prefix = 'fa')).add_to(map)\n",
    "        map.save(\"map.html\")\n",
    "        display(map)\n",
    "    else:\n",
    "        return \"Could not process map\"\n",
    "        \n",
    "def process_routing_info(raw_json):\n",
    "    steps = []\n",
    "    distance = raw_json['routes'][0]['legs'][0]['distance']['value']\n",
    "    duration = raw_json['routes'][0]['legs'][0]['duration']['text']\n",
    "    \n",
    "    if mode in ['transit']:\n",
    "        departure_time = raw_json['routes'][0]['legs'][0]['departure_time']['text']\n",
    "        arrival_time = raw_json['routes'][0]['legs'][0]['arrival_time']['text']\n",
    "        times = (departure_time, arrival_time)\n",
    "        print(f\"Planned departure: {departure_time}\\nPlanned arrival: {arrival_time}\")\n",
    "    else:\n",
    "        times = None\n",
    "    \n",
    "    if distance >= 1000:\n",
    "        distance = round(distance/1000, 2)\n",
    "        print('Distance: {} km'.format(distance))\n",
    "    else:\n",
    "        print('Distance {} m'.format(distance))\n",
    "    print(f\"Duration: {duration}\")\n",
    "    \n",
    "    steps = [re.sub('<[^<]+?>', '', step['html_instructions'].replace('<div style=\"font-size:0.9em\">', '\\n')) for step in raw_json['routes'][0]['legs'][0]['steps']]\n",
    "    for step in range(len(steps)):\n",
    "        print(f\"{step+1}. {steps[step]}\")\n",
    "    return [distance, duration, steps, times]\n",
    "\n",
    "def main():\n",
    "    raw_json = json_route(origin, destination, departure, arrival)\n",
    "    #display(raw_json)\n",
    "    coordinates = get_coordinates(raw_json)\n",
    "    make_map(coordinates)\n",
    "    route_info = process_routing_info(raw_json)\n",
    "    \n",
    "main()\n"
   ]
  },
  {
   "cell_type": "code",
   "execution_count": null,
   "metadata": {},
   "outputs": [],
   "source": []
  }
 ],
 "metadata": {
  "kernelspec": {
   "display_name": "Python 3",
   "language": "python",
   "name": "python3"
  },
  "language_info": {
   "codemirror_mode": {
    "name": "ipython",
    "version": 3
   },
   "file_extension": ".py",
   "mimetype": "text/x-python",
   "name": "python",
   "nbconvert_exporter": "python",
   "pygments_lexer": "ipython3",
   "version": "3.7.4"
  }
 },
 "nbformat": 4,
 "nbformat_minor": 2
}
