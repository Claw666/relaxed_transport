{
 "cells": [
  {
   "cell_type": "markdown",
   "metadata": {},
   "source": [
    "# Test code\n",
    "The goal of this workbook is to test each bit of code and how it can be called."
   ]
  },
  {
   "cell_type": "markdown",
   "metadata": {},
   "source": [
    "# Spotify\n",
    "To use the spotify integration one needs to import the functions as below"
   ]
  },
  {
   "cell_type": "code",
   "execution_count": 1,
   "metadata": {},
   "outputs": [],
   "source": [
    "import pandas as pd\n",
    "import create_spotify_playlist as sp_scripts"
   ]
  },
  {
   "cell_type": "markdown",
   "metadata": {},
   "source": [
    "Then it's possible to create a playlist by giving the username, vibe and duration of the trip. The function returns a json that is the same as the schema in the DB for musics, therefore it's easy to then input it in the database;"
   ]
  },
  {
   "cell_type": "code",
   "execution_count": 2,
   "metadata": {},
   "outputs": [],
   "source": [
    "value_spotify = sp_scripts.create_playlist(\"pblanchet1234\", \"chill\", 800)"
   ]
  },
  {
   "cell_type": "markdown",
   "metadata": {},
   "source": [
    "# Weather API\n",
    "The weather integration is very important for us to recommend or not biking/walking. Therefore let's test the set of function that are going to be relevant for us"
   ]
  },
  {
   "cell_type": "code",
   "execution_count": 3,
   "metadata": {},
   "outputs": [],
   "source": [
    "import weather_scripts"
   ]
  },
  {
   "cell_type": "markdown",
   "metadata": {},
   "source": [
    "Let's get the json object"
   ]
  },
  {
   "cell_type": "code",
   "execution_count": 4,
   "metadata": {},
   "outputs": [],
   "source": [
    "json_object = weather_scripts.get_weather_json()"
   ]
  },
  {
   "cell_type": "markdown",
   "metadata": {},
   "source": [
    "Let's get the station closest to the user"
   ]
  },
  {
   "cell_type": "code",
   "execution_count": 5,
   "metadata": {},
   "outputs": [
    {
     "data": {
      "text/plain": [
       "{'stationname': 'Meetstation Groenlo-Hupsel',\n",
       " '$id': '15',\n",
       " 'distance': 0.6199999999999983}"
      ]
     },
     "execution_count": 5,
     "metadata": {},
     "output_type": "execute_result"
    }
   ],
   "source": [
    "user_lat = 51.6\n",
    "user_long = 6.8\n",
    "\n",
    "closest_station = weather_scripts.get_closest_station(json_object,user_lat, user_long)\n",
    "closest_station"
   ]
  },
  {
   "cell_type": "markdown",
   "metadata": {},
   "source": [
    "Get the temperature, windspeed, humidity and precipitation from the closest station"
   ]
  },
  {
   "cell_type": "code",
   "execution_count": 6,
   "metadata": {},
   "outputs": [
    {
     "data": {
      "text/plain": [
       "{'$id': '15',\n",
       " 'stationid': 6283,\n",
       " 'stationname': 'Meetstation Groenlo-Hupsel',\n",
       " 'lat': 52.07,\n",
       " 'lon': 6.65,\n",
       " 'regio': 'Oost-Overijssel',\n",
       " 'timestamp': '2022-03-08T20:20:00',\n",
       " 'weatherdescription': 'Zwaar bewolkt',\n",
       " 'iconurl': 'https://www.buienradar.nl/resources/images/icons/weather/30x30/cc.png',\n",
       " 'graphUrl': 'https://www.buienradar.nl/nederland/weerbericht/weergrafieken/cc',\n",
       " 'winddirection': 'OZO',\n",
       " 'temperature': 4.6,\n",
       " 'groundtemperature': 0.2,\n",
       " 'feeltemperature': 2.1,\n",
       " 'windgusts': 4.0,\n",
       " 'windspeed': 2.9,\n",
       " 'windspeedBft': 2,\n",
       " 'humidity': 56.0,\n",
       " 'precipitation': 0.0,\n",
       " 'sunpower': 0.0,\n",
       " 'rainFallLast24Hour': 0.0,\n",
       " 'rainFallLastHour': 0.0,\n",
       " 'winddirectiondegrees': 117}"
      ]
     },
     "execution_count": 6,
     "metadata": {},
     "output_type": "execute_result"
    }
   ],
   "source": [
    "station_values = weather_scripts.get_values_station(json_object, closest_station[\"$id\"])\n",
    "station_values"
   ]
  },
  {
   "cell_type": "markdown",
   "metadata": {},
   "source": [
    "# Database\n",
    "One very important thing for us is to store all our information in a database. Here we show how the code for db_scripts.py is imported and used to this extent."
   ]
  },
  {
   "cell_type": "markdown",
   "metadata": {},
   "source": [
    "The cell below pushes the value of our spotify playlist creation to the db."
   ]
  },
  {
   "cell_type": "code",
   "execution_count": 7,
   "metadata": {},
   "outputs": [
    {
     "data": {
      "text/plain": [
       "['pblanchet1234',\n",
       " 'chill',\n",
       " 'Trip chill 08/03/2022 20:28',\n",
       " '1ao5BquaiVa8Yp1vWOdj9Y',\n",
       " 800,\n",
       " datetime.datetime(2022, 3, 8, 20, 28, 48, 718159),\n",
       " \"['1oBztH9i09z0Nc099LbZif', '5XreaY4Ex1gYhGAM9dzZzR', '1wFGZZgPRBDnyfeJPOxuES', '7gUq6yvBNXouRVDAsDkcdI', '7Gly3poMF6OoDPzbPsaT5z']\"]"
      ]
     },
     "execution_count": 7,
     "metadata": {},
     "output_type": "execute_result"
    }
   ],
   "source": [
    "import db_scripts \n",
    "\n",
    "db_scripts.add_playlist_to_table(value_spotify)\n",
    "value_spotify"
   ]
  },
  {
   "cell_type": "markdown",
   "metadata": {},
   "source": [
    "The cell below allows us to push new users to the db"
   ]
  },
  {
   "cell_type": "code",
   "execution_count": 8,
   "metadata": {},
   "outputs": [],
   "source": [
    "user_values = (853500123456,\"test_mail@hey.eu\",\"jarvis\",\"pblanchet1234\")\n",
    "db_scripts.add_user_to_table(user_values)"
   ]
  },
  {
   "cell_type": "markdown",
   "metadata": {},
   "source": [
    "The cell below allows us to push new routes to the db"
   ]
  },
  {
   "cell_type": "code",
   "execution_count": 9,
   "metadata": {},
   "outputs": [],
   "source": [
    "route_values = (853500123456,8087300123456,'Amsterdam Centraal', 'Zuid', 720,'medium','metro','rainy')\n",
    "db_scripts.add_route_to_table(route_values)"
   ]
  },
  {
   "cell_type": "markdown",
   "metadata": {},
   "source": [
    "The cell below allows us to push new co2_savings to the db"
   ]
  },
  {
   "cell_type": "code",
   "execution_count": 10,
   "metadata": {},
   "outputs": [],
   "source": [
    "co2_values = (853500123456,8087300123456,77,220)\n",
    "db_scripts.add_co2_to_table(co2_values)"
   ]
  },
  {
   "cell_type": "markdown",
   "metadata": {},
   "source": [
    "The cell below allows us to push new calories burnt to the db"
   ]
  },
  {
   "cell_type": "code",
   "execution_count": 11,
   "metadata": {},
   "outputs": [],
   "source": [
    "calories_values = (853500123456,8087300123456,174)\n",
    "db_scripts.add_calories_to_table(calories_values)"
   ]
  }
 ],
 "metadata": {
  "interpreter": {
   "hash": "d90f770c168f892c763cb6e5d30539d48ced35441e74243f5f187f186c59554a"
  },
  "kernelspec": {
   "display_name": "Python 3.7.9 64-bit",
   "language": "python",
   "name": "python3"
  },
  "language_info": {
   "codemirror_mode": {
    "name": "ipython",
    "version": 3
   },
   "file_extension": ".py",
   "mimetype": "text/x-python",
   "name": "python",
   "nbconvert_exporter": "python",
   "pygments_lexer": "ipython3",
   "version": "3.7.9"
  },
  "orig_nbformat": 4
 },
 "nbformat": 4,
 "nbformat_minor": 2
}
