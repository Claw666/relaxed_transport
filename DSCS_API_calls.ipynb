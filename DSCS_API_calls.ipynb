{
 "cells": [
  {
   "cell_type": "markdown",
   "metadata": {},
   "source": [
    "# Our own api\n",
    "I created an api gateway on aws and linked it to lambda functions. Now we want to see how well it's working. In this notebook are described all the api calls that can be made from the UI and how they are working"
   ]
  },
  {
   "cell_type": "markdown",
   "metadata": {},
   "source": [
    "# Database API calls\n",
    "We have one unique endpoint for POSTING data to our database and depending on the parameters send it will post data to the relevant table\n",
    "\n",
    "### Send data to the calories burnt table"
   ]
  },
  {
   "cell_type": "code",
   "execution_count": 5,
   "metadata": {},
   "outputs": [
    {
     "data": {
      "text/plain": [
       "{'statusCode': 200, 'body': '\"calories burnt added to table\"'}"
      ]
     },
     "execution_count": 5,
     "metadata": {},
     "output_type": "execute_result"
    }
   ],
   "source": [
    "import requests\n",
    "r = requests.post('https://lneprkwux0.execute-api.eu-central-1.amazonaws.com/test/mariadbmanager',\n",
    "     json={\n",
    "            \"table\":\"calories_burnt\",\n",
    "            \"route_id\": 456789,\n",
    "            \"user_id\":987654,\n",
    "            \"calories_burnt\":400            \n",
    "            })\n",
    "r.status_code\n",
    "r.json()\n"
   ]
  },
  {
   "cell_type": "markdown",
   "metadata": {},
   "source": [
    "### Send data to the co2_savings table"
   ]
  },
  {
   "cell_type": "code",
   "execution_count": 6,
   "metadata": {},
   "outputs": [
    {
     "data": {
      "text/plain": [
       "{'statusCode': 200, 'body': '\"co2 savings added to table\"'}"
      ]
     },
     "execution_count": 6,
     "metadata": {},
     "output_type": "execute_result"
    }
   ],
   "source": [
    "import requests\n",
    "r = requests.post('https://lneprkwux0.execute-api.eu-central-1.amazonaws.com/test/mariadbmanager',\n",
    "     json={\n",
    "            \"table\":\"co2_savings\",\n",
    "            \"route_id\": 853500123456,\n",
    "            \"user_id\":8087300123456,\n",
    "            \"co2_saved\":77,\n",
    "            \"energy_saved\":220       \n",
    "            })\n",
    "r.status_code\n",
    "r.json()"
   ]
  },
  {
   "cell_type": "markdown",
   "metadata": {},
   "source": [
    "### Send data to the routes table"
   ]
  },
  {
   "cell_type": "code",
   "execution_count": 10,
   "metadata": {},
   "outputs": [
    {
     "data": {
      "text/plain": [
       "{'statusCode': 200, 'body': '\"route added to table\"'}"
      ]
     },
     "execution_count": 10,
     "metadata": {},
     "output_type": "execute_result"
    }
   ],
   "source": [
    "import requests\n",
    "r = requests.post('https://lneprkwux0.execute-api.eu-central-1.amazonaws.com/test/mariadbmanager',\n",
    "     json={\n",
    "            \"table\":\"routes\",\n",
    "            \"user_id\": 853500123456,\n",
    "            \"route_id\":8087300123456,\n",
    "            \"departure\":\"Amsterdam Centraal\",\n",
    "            \"arrival\":\"Zuid\",\n",
    "            \"travel_length\":720,\n",
    "            \"activity_intensity\":\"medium\",\n",
    "            \"transportation_mode\":\"metro\",\n",
    "            \"weather\":\"rainy\"   \n",
    "            })\n",
    "r.status_code\n",
    "r.json()"
   ]
  },
  {
   "cell_type": "markdown",
   "metadata": {},
   "source": [
    "### Send data to the users table"
   ]
  },
  {
   "cell_type": "code",
   "execution_count": 11,
   "metadata": {},
   "outputs": [
    {
     "data": {
      "text/plain": [
       "{'statusCode': 200, 'body': '\"user added to table\"'}"
      ]
     },
     "execution_count": 11,
     "metadata": {},
     "output_type": "execute_result"
    }
   ],
   "source": [
    "import requests\n",
    "r = requests.post('https://lneprkwux0.execute-api.eu-central-1.amazonaws.com/test/mariadbmanager',\n",
    "     json={\n",
    "            \"table\":\"user\",\n",
    "            \"user_id\": 853500123456,\n",
    "            \"user_email\":\"test_mail@hey.eu\",\n",
    "            \"move_round_username\":\"jarvis\",  \n",
    "            \"spotify_username\":\"pblanchet1234\"\n",
    "            })\n",
    "r.status_code\n",
    "r.json()"
   ]
  },
  {
   "cell_type": "markdown",
   "metadata": {},
   "source": [
    "### Send data to the music table"
   ]
  },
  {
   "cell_type": "code",
   "execution_count": 12,
   "metadata": {},
   "outputs": [
    {
     "data": {
      "text/plain": [
       "{'statusCode': 200, 'body': '\"playlist added to table\"'}"
      ]
     },
     "execution_count": 12,
     "metadata": {},
     "output_type": "execute_result"
    }
   ],
   "source": [
    "import requests\n",
    "r = requests.post('https://lneprkwux0.execute-api.eu-central-1.amazonaws.com/test/mariadbmanager',\n",
    "     json={\n",
    "            \"table\":\"music\",\n",
    "            \"username\": \"pblanchet1234\",\n",
    "            \"music_vibe\":\"chill\",\n",
    "            \"playlist_name\":\"Trip chill 11/03/2022 10:51\",\n",
    "            \"playlist_id\":\"1CMFDUkPbmq8w1GURTLyrI\",\n",
    "            \"playlist_length\":800,\n",
    "            \"creation_time\":\"2022-03-11 10:51:48.000\",\n",
    "            \"songs_ID\":\"['7k3QLsRuIi7f5l7o0yzjw4', '60JBFAlvNd7ZrhmEWzRjdE', '1nQPMlAgZLSA3nxzIm15SS', '2Z2UlqPUQzHob90fBjBBoy', '7rxrQD7I7ZybpLtWbsnJwi', '7FLCdpekIVLJLVG5ybImp3']\"\n",
    "            })\n",
    "r.status_code\n",
    "r.json()"
   ]
  },
  {
   "cell_type": "markdown",
   "metadata": {},
   "source": [
    "### Test if the name of the table is incorrect\n",
    "If the name of the table isn't recognized then we tell that via the api. If the data sent to a correct table is incorrect then the code will fail"
   ]
  },
  {
   "cell_type": "code",
   "execution_count": 14,
   "metadata": {},
   "outputs": [
    {
     "data": {
      "text/plain": [
       "{'statusCode': 200, 'body': '\"This table name is not recognized\"'}"
      ]
     },
     "execution_count": 14,
     "metadata": {},
     "output_type": "execute_result"
    }
   ],
   "source": [
    "import requests\n",
    "r = requests.post('https://lneprkwux0.execute-api.eu-central-1.amazonaws.com/test/mariadbmanager',\n",
    "     json={\n",
    "            \"table\":\"test_fail\"})\n",
    "r.status_code\n",
    "r.json()"
   ]
  }
 ],
 "metadata": {
  "interpreter": {
   "hash": "d90f770c168f892c763cb6e5d30539d48ced35441e74243f5f187f186c59554a"
  },
  "kernelspec": {
   "display_name": "Python 3.7.9 64-bit",
   "language": "python",
   "name": "python3"
  },
  "language_info": {
   "codemirror_mode": {
    "name": "ipython",
    "version": 3
   },
   "file_extension": ".py",
   "mimetype": "text/x-python",
   "name": "python",
   "nbconvert_exporter": "python",
   "pygments_lexer": "ipython3",
   "version": "3.7.9"
  },
  "orig_nbformat": 4
 },
 "nbformat": 4,
 "nbformat_minor": 2
}
