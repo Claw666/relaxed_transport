{
 "cells": [
  {
   "cell_type": "markdown",
   "metadata": {},
   "source": [
    "# Our own api\n",
    "I created an api gateway on aws and linked it to lambda functions. Now we want to see how well it's working. In this notebook are described all the api calls that can be made from the UI and how they are working"
   ]
  },
  {
   "cell_type": "markdown",
   "metadata": {},
   "source": [
    "# Database API calls\n",
    "We have one unique endpoint for POSTING data to our database and depending on the parameters send it will post data to the relevant table\n",
    "\n",
    "### Send data to the calories burnt table"
   ]
  },
  {
   "cell_type": "code",
   "execution_count": 5,
   "metadata": {},
   "outputs": [
    {
     "data": {
      "text/plain": [
       "{'statusCode': 200, 'body': '\"calories burnt added to table\"'}"
      ]
     },
     "execution_count": 5,
     "metadata": {},
     "output_type": "execute_result"
    }
   ],
   "source": [
    "import requests\n",
    "r = requests.post('https://lneprkwux0.execute-api.eu-central-1.amazonaws.com/test/mariadbmanager',\n",
    "     json={\n",
    "            \"table\":\"calories_burnt\",\n",
    "            \"route_id\": 456789,\n",
    "            \"user_id\":987654,\n",
    "            \"calories_burnt\":400            \n",
    "            })\n",
    "r.status_code\n",
    "r.json()\n"
   ]
  },
  {
   "cell_type": "markdown",
   "metadata": {},
   "source": [
    "### Send data to the co2_savings table"
   ]
  },
  {
   "cell_type": "code",
   "execution_count": 6,
   "metadata": {},
   "outputs": [
    {
     "data": {
      "text/plain": [
       "{'statusCode': 200, 'body': '\"co2 savings added to table\"'}"
      ]
     },
     "execution_count": 6,
     "metadata": {},
     "output_type": "execute_result"
    }
   ],
   "source": [
    "import requests\n",
    "r = requests.post('https://lneprkwux0.execute-api.eu-central-1.amazonaws.com/test/mariadbmanager',\n",
    "     json={\n",
    "            \"table\":\"co2_savings\",\n",
    "            \"route_id\": 853500123456,\n",
    "            \"user_id\":8087300123456,\n",
    "            \"co2_saved\":77,\n",
    "            \"energy_saved\":220       \n",
    "            })\n",
    "r.status_code\n",
    "r.json()"
   ]
  },
  {
   "cell_type": "markdown",
   "metadata": {},
   "source": [
    "### Send data to the routes table"
   ]
  },
  {
   "cell_type": "code",
   "execution_count": 10,
   "metadata": {},
   "outputs": [
    {
     "data": {
      "text/plain": [
       "{'statusCode': 200, 'body': '\"route added to table\"'}"
      ]
     },
     "execution_count": 10,
     "metadata": {},
     "output_type": "execute_result"
    }
   ],
   "source": [
    "import requests\n",
    "r = requests.post('https://lneprkwux0.execute-api.eu-central-1.amazonaws.com/test/mariadbmanager',\n",
    "     json={\n",
    "            \"table\":\"routes\",\n",
    "            \"user_id\": 853500123456,\n",
    "            \"route_id\":8087300123456,\n",
    "            \"departure\":\"Amsterdam Centraal\",\n",
    "            \"arrival\":\"Zuid\",\n",
    "            \"travel_length\":720,\n",
    "            \"activity_intensity\":\"medium\",\n",
    "            \"transportation_mode\":\"metro\",\n",
    "            \"weather\":\"rainy\"   \n",
    "            })\n",
    "r.status_code\n",
    "r.json()"
   ]
  },
  {
   "cell_type": "markdown",
   "metadata": {},
   "source": [
    "### Send data to the users table"
   ]
  },
  {
   "cell_type": "code",
   "execution_count": 11,
   "metadata": {},
   "outputs": [
    {
     "data": {
      "text/plain": [
       "{'statusCode': 200, 'body': '\"user added to table\"'}"
      ]
     },
     "execution_count": 11,
     "metadata": {},
     "output_type": "execute_result"
    }
   ],
   "source": [
    "import requests\n",
    "r = requests.post('https://lneprkwux0.execute-api.eu-central-1.amazonaws.com/test/mariadbmanager',\n",
    "     json={\n",
    "            \"table\":\"user\",\n",
    "            \"user_id\": 853500123456,\n",
    "            \"user_email\":\"test_mail@hey.eu\",\n",
    "            \"move_round_username\":\"jarvis\",  \n",
    "            \"spotify_username\":\"pblanchet1234\"\n",
    "            })\n",
    "r.status_code\n",
    "r.json()"
   ]
  },
  {
   "cell_type": "markdown",
   "metadata": {},
   "source": [
    "### Send data to the music table"
   ]
  },
  {
   "cell_type": "code",
   "execution_count": 12,
   "metadata": {},
   "outputs": [
    {
     "data": {
      "text/plain": [
       "{'statusCode': 200, 'body': '\"playlist added to table\"'}"
      ]
     },
     "execution_count": 12,
     "metadata": {},
     "output_type": "execute_result"
    }
   ],
   "source": [
    "import requests\n",
    "r = requests.post('https://lneprkwux0.execute-api.eu-central-1.amazonaws.com/test/mariadbmanager',\n",
    "     json={\n",
    "            \"table\":\"music\",\n",
    "            \"username\": \"pblanchet1234\",\n",
    "            \"music_vibe\":\"chill\",\n",
    "            \"playlist_name\":\"Trip chill 11/03/2022 10:51\",\n",
    "            \"playlist_id\":\"1CMFDUkPbmq8w1GURTLyrI\",\n",
    "            \"playlist_length\":800,\n",
    "            \"creation_time\":\"2022-03-11 10:51:48.000\",\n",
    "            \"songs_ID\":\"['7k3QLsRuIi7f5l7o0yzjw4', '60JBFAlvNd7ZrhmEWzRjdE', '1nQPMlAgZLSA3nxzIm15SS', '2Z2UlqPUQzHob90fBjBBoy', '7rxrQD7I7ZybpLtWbsnJwi', '7FLCdpekIVLJLVG5ybImp3']\"\n",
    "            })\n",
    "r.status_code\n",
    "r.json()"
   ]
  },
  {
   "cell_type": "markdown",
   "metadata": {},
   "source": [
    "### Test if the name of the table is incorrect\n",
    "If the name of the table isn't recognized then we tell that via the api. If the data sent to a correct table is incorrect then the code will fail"
   ]
  },
  {
   "cell_type": "code",
   "execution_count": 14,
   "metadata": {},
   "outputs": [
    {
     "data": {
      "text/plain": [
       "{'statusCode': 200, 'body': '\"This table name is not recognized\"'}"
      ]
     },
     "execution_count": 14,
     "metadata": {},
     "output_type": "execute_result"
    }
   ],
   "source": [
    "import requests\n",
    "r = requests.post('https://lneprkwux0.execute-api.eu-central-1.amazonaws.com/test/mariadbmanager',\n",
    "     json={\n",
    "            \"table\":\"test_fail\"})\n",
    "r.status_code\n",
    "r.json()"
   ]
  },
  {
   "cell_type": "markdown",
   "metadata": {},
   "source": [
    "# News API calls\n",
    "This time we use a GET request to get 5 articles from the category and country we are interested in. Important to note that for a prototype let's only use the category business and country \"nl\" or \"us\" to start with."
   ]
  },
  {
   "cell_type": "code",
   "execution_count": 17,
   "metadata": {},
   "outputs": [
    {
     "data": {
      "text/plain": [
       "{'statusCode': 200,\n",
       " 'body': [{'source': {'id': None, 'name': 'Nos.nl'},\n",
       "   'author': None,\n",
       "   'title': \"Rijlessen mogelijk duurder door brandstofprijzen: 'Je moet een boterham verdienen' - NOS\",\n",
       "   'description': 'Rijschoolhouders zeggen de gestegen brandstofprijzen nu of de komende maanden tussentijds te zullen doorberekenen aan de klant.',\n",
       "   'url': 'https://nos.nl/l/2420697',\n",
       "   'urlToImage': 'https://cdn.nos.nl/image/2022/03/11/840454/xxl.jpg',\n",
       "   'publishedAt': '2022-03-11T06:43:42Z',\n",
       "   'content': '\"Liever doe je het natuurlijk niet, maar dit is voor de leerling ook het meest transparant. Want daalt de brandstofprijs weer, dan kun je die ook afschaffen. Bij een pakketprijs is dat toch moeilijke… [+2069 chars]'},\n",
       "  {'source': {'id': None, 'name': 'Telegraaf.nl'},\n",
       "   'author': 'Onze parlementaire redactie',\n",
       "   'title': 'Onderzoekscollege: berisp Baudet voor achterhouden van nevenfuncties | Binnenland | Telegraaf.nl - Telegraaf.nl',\n",
       "   'description': 'Partijleider FvD-leider Thierry Baudet heeft verzuimd om twee nevenfuncties op te geven in het openbare register van de Tweede Kamer. Hij moet daarom worden berispt, vindt de integriteitscommissie van de Kamer. Baudet weigerde elke medewerking aan het onderzo…',\n",
       "   'url': 'https://www.telegraaf.nl/nieuws/2004939813/onderzoekscollege-berisp-baudet-voor-achterhouden-van-nevenfuncties',\n",
       "   'urlToImage': 'https://www.telegraaf.nl/images/1200x630/filters:format(jpeg):quality(80)/cdn-kiosk-api.telegraaf.nl/23abb1f2-a076-11ec-bb96-02d2fb1aa1d7.jpg',\n",
       "   'publishedAt': '2022-03-11T05:52:37Z',\n",
       "   'content': 'Vorig jaar dienden twee burgers een klacht in bij de commissie, omdat Baudet de neveninkomsten uit de verkoop van zijn boeken niet had opgegeven. Met die verkoop zou de FvD-leider zon 85.000 euro heb… [+1513 chars]'},\n",
       "  {'source': {'id': None, 'name': 'Telegraaf.nl'},\n",
       "   'author': 'Redactie DFT',\n",
       "   'title': 'Lagere hypotheek door nieuwe private leaseauto | Geld | Telegraaf.nl - Telegraaf.nl',\n",
       "   'description': 'Woningkopers moeten oppassen met de aanschaf van een nieuwe auto via private lease. Nieuwe private leasecontracten worden per 1 april namelijk voor 100% geregistreerd bij het BKR. Dat gebeurt nu nog voor 65% van het leasebedrag. Wie een huis wil kopen, kan da…',\n",
       "   'url': 'https://www.telegraaf.nl/financieel/502698408/lagere-hypotheek-door-nieuwe-private-leaseauto',\n",
       "   'urlToImage': 'https://www.telegraaf.nl/images/1200x630/filters:format(jpeg):quality(80)/cdn-kiosk-api.telegraaf.nl/e7c0a862-a090-11ec-90fb-0217670beecd.jpg',\n",
       "   'publishedAt': '2022-03-11T05:44:50Z',\n",
       "   'content': 'Sunny Schenkers, expert lenen bij vergelijkingssite Pricewise, geeft een voorbeeld. Stel dat jij en je partner een gezamenlijk inkomen van 66.000 per jaar hebben, dan kunnen jullie zonder private lea… [+1099 chars]'},\n",
       "  {'source': {'id': None, 'name': 'Telegraaf.nl'},\n",
       "   'author': 'Theo Besteman',\n",
       "   'title': 'Kolencentrales wachten op groen licht | Financieel | Telegraaf.nl - Telegraaf.nl',\n",
       "   'description': 'Nederlandse kolencentrales kunnen versneld meer energie produceren. De bedrijven noemen het als concrete mogelijkheid vanwege het gastekort. De torenhoge energierekeningen voor consumenten worden zo beperkt. Maar de ovens aanvuren kan alleen als politiek Den …',\n",
       "   'url': 'https://www.telegraaf.nl/financieel/1735262394/kolencentrales-wachten-op-groen-licht',\n",
       "   'urlToImage': 'https://www.telegraaf.nl/images/1200x630/filters:format(jpeg):quality(80)/cdn-kiosk-api.telegraaf.nl/fb286284-a0b6-11ec-adc5-02c309bc01c1.jpg',\n",
       "   'publishedAt': '2022-03-11T05:29:31Z',\n",
       "   'content': 'Rusland gaat met de nationalisatie van bezittingen van buitenlandse bedrijven ruim honderd jaar terug in de tijd, naar de bolsjewistische revolutie van 1917. Daarvoor waarschuwt de president en groot… [+102 chars]'},\n",
       "  {'source': {'id': None, 'name': 'Www.nu.nl'},\n",
       "   'author': 'NU.nl',\n",
       "   'title': 'Overgewicht, roken en drankgebruik nauwelijks gedaald in drie jaar tijd - NU.nl',\n",
       "   'description': 'De helft van de volwassenen in Nederland had vorig jaar overgewicht, evenveel als bij de invoering van het Nationaal Preventieakkoord in 2018. Ook de cijfers over roken en drinken laten weinig verbetering zien ten opzichte van ruim drie jaar geleden. Dat blij…',\n",
       "   'url': 'https://www.nu.nl/binnenland/6188707/overgewicht-roken-en-drankgebruik-nauwelijks-gedaald-in-drie-jaar-tijd.html',\n",
       "   'urlToImage': 'https://media.nu.nl/m/o8cxi3oaqptv_wd1280.jpg/overgewicht-roken-en-drankgebruik-nauwelijks-gedaald-in-drie-jaar-tijd.jpg',\n",
       "   'publishedAt': '2022-03-11T01:02:00Z',\n",
       "   'content': 'De helft van de volwassenen in Nederland had vorig jaar overgewicht, evenveel als bij de invoering van het Nationaal Preventieakkoord in 2018. Ook de cijfers over roken en drinken laten weinig verbet… [+797 chars]'}]}"
      ]
     },
     "execution_count": 17,
     "metadata": {},
     "output_type": "execute_result"
    }
   ],
   "source": [
    "import requests\n",
    "r = requests.get('https://lneprkwux0.execute-api.eu-central-1.amazonaws.com/test/news',\n",
    "     params={\n",
    "            \"category\":\"business\",\n",
    "            \"country\":\"nl\"\n",
    "            })\n",
    "r.status_code\n",
    "r.json()"
   ]
  },
  {
   "cell_type": "markdown",
   "metadata": {},
   "source": [
    "# Calories API calls\n",
    "This time we use a GET request to get the calories burnt for a trip by giving in input the sex of the person, the type of exercise and the duration of the exercise. It works as follow:"
   ]
  },
  {
   "cell_type": "code",
   "execution_count": 1,
   "metadata": {},
   "outputs": [
    {
     "data": {
      "text/plain": [
       "{'statusCode': 200, 'body': 162.53999999999996}"
      ]
     },
     "execution_count": 1,
     "metadata": {},
     "output_type": "execute_result"
    }
   ],
   "source": [
    "import requests\n",
    "r = requests.get('https://lneprkwux0.execute-api.eu-central-1.amazonaws.com/test/calories',\n",
    "     params={\n",
    "            \"sex\":\"female\",\n",
    "            \"exercise\":\"walking\",\n",
    "            \"duration\":'30'\n",
    "            })\n",
    "r.status_code\n",
    "r.json()"
   ]
  },
  {
   "cell_type": "markdown",
   "metadata": {},
   "source": [
    "The other exercise type available is \"biking\" and of course one can also put \"male\" as sex"
   ]
  },
  {
   "cell_type": "markdown",
   "metadata": {},
   "source": [
    "# Weather API calls\n",
    "This time we use a GET request to get the current weather. No input is required as we take the simplification that the weather in Schiphol is the same as in amsterdam."
   ]
  },
  {
   "cell_type": "code",
   "execution_count": 3,
   "metadata": {},
   "outputs": [
    {
     "data": {
      "text/plain": [
       "{'statusCode': 200,\n",
       " 'body': {'$id': '39',\n",
       "  'stationid': 6240,\n",
       "  'stationname': 'Meetstation Schiphol',\n",
       "  'lat': 52.3,\n",
       "  'lon': 4.77,\n",
       "  'regio': 'Amsterdam',\n",
       "  'timestamp': '2022-03-13T09:50:00',\n",
       "  'weatherdescription': 'Zwaar bewolkt',\n",
       "  'iconurl': 'https://www.buienradar.nl/resources/images/icons/weather/30x30/c.png',\n",
       "  'graphUrl': 'https://www.buienradar.nl/nederland/weerbericht/weergrafieken/c',\n",
       "  'winddirection': 'ZO',\n",
       "  'airpressure': 1012.8,\n",
       "  'temperature': 11.1,\n",
       "  'groundtemperature': 11.4,\n",
       "  'feeltemperature': 8.7,\n",
       "  'visibility': 26400.0,\n",
       "  'windgusts': 8.1,\n",
       "  'windspeed': 5.7,\n",
       "  'windspeedBft': 4,\n",
       "  'humidity': 62.0,\n",
       "  'precipitation': 0.0,\n",
       "  'sunpower': 218.0,\n",
       "  'rainFallLast24Hour': 0.0,\n",
       "  'rainFallLastHour': 0.0,\n",
       "  'winddirectiondegrees': 136}}"
      ]
     },
     "execution_count": 3,
     "metadata": {},
     "output_type": "execute_result"
    }
   ],
   "source": [
    "import requests\n",
    "r = requests.get('https://lneprkwux0.execute-api.eu-central-1.amazonaws.com/test/weather',\n",
    "     params={})\n",
    "r.status_code\n",
    "r.json()"
   ]
  },
  {
   "cell_type": "markdown",
   "metadata": {},
   "source": [
    "# Google Places API calls\n",
    "This time we use a GET request to get places around the user using the google api. Multiple categories can be used. It then returns a list of places within a specified radius. It works as follows:"
   ]
  },
  {
   "cell_type": "code",
   "execution_count": 1,
   "metadata": {},
   "outputs": [
    {
     "data": {
      "text/plain": [
       "{'statusCode': 200,\n",
       " 'body': [['Brasserie Zuiderbad', 52.3586947, 4.886131499999999, 4.6, 19],\n",
       "  ['Le Restaurant', 52.357871, 4.8887499, 4.6, 130],\n",
       "  ['Levant Restaurant', 52.3610249, 4.8873351, 4.6, 328]]}"
      ]
     },
     "execution_count": 1,
     "metadata": {},
     "output_type": "execute_result"
    }
   ],
   "source": [
    "import requests\n",
    "r = requests.get('https://lneprkwux0.execute-api.eu-central-1.amazonaws.com/test/places',\n",
    "     params={\n",
    "            \"placecategory\":\"restaurant\",\n",
    "            \"lat\": 4.8864612,\n",
    "            \"long\":52.359536,\n",
    "            \"radius\":50\n",
    "            })\n",
    "r.status_code\n",
    "r.json()"
   ]
  },
  {
   "cell_type": "markdown",
   "metadata": {},
   "source": [
    "# CO2  API calls\n",
    "This time we use a GET request to get the CO2 produced by a particular mode of transport and what it represents in trees as well as in number of days lit at the Rijskmuseum. This can be used to show the user the impact of its travel as well as how much better it is compared to other transportation mode (especially the car). The distance is in km and the different mode that can be used are  : LIGHT_RAIL, SMALL_CAR,LARGE_CAR,SCOOTER,BUS,WALK,CAR,SUBWAY,FERRY,TRANSIT,AIRPLANE. They need to put in lowercase\n"
   ]
  },
  {
   "cell_type": "code",
   "execution_count": 3,
   "metadata": {},
   "outputs": [
    {
     "data": {
      "text/plain": [
       "{'statusCode': 200,\n",
       " 'body': {'estimateCO2kg': 1.12,\n",
       "  'treesplanted': 0.06,\n",
       "  'LightdaysRijksmuseum': 1.02}}"
      ]
     },
     "execution_count": 3,
     "metadata": {},
     "output_type": "execute_result"
    }
   ],
   "source": [
    "import requests\n",
    "r = requests.get('https://lneprkwux0.execute-api.eu-central-1.amazonaws.com/test/co2emissions',\n",
    "     params={\n",
    "            \"mode\":\"small_car\",\n",
    "            \"distance\": 10\n",
    "            })\n",
    "r.status_code\n",
    "r.json()"
   ]
  }
 ],
 "metadata": {
  "interpreter": {
   "hash": "d90f770c168f892c763cb6e5d30539d48ced35441e74243f5f187f186c59554a"
  },
  "kernelspec": {
   "display_name": "Python 3.7.9 64-bit",
   "language": "python",
   "name": "python3"
  },
  "language_info": {
   "codemirror_mode": {
    "name": "ipython",
    "version": 3
   },
   "file_extension": ".py",
   "mimetype": "text/x-python",
   "name": "python",
   "nbconvert_exporter": "python",
   "pygments_lexer": "ipython3",
   "version": "3.7.9"
  },
  "orig_nbformat": 4
 },
 "nbformat": 4,
 "nbformat_minor": 2
}
